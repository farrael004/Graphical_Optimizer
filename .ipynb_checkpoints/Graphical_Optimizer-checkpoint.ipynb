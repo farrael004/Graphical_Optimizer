{
 "cells": [
  {
   "cell_type": "markdown",
   "metadata": {
    "id": "vaUUN0wQHm4D"
   },
   "source": [
    "## Loading Data"
   ]
  },
  {
   "cell_type": "code",
   "execution_count": 1,
   "metadata": {
    "id": "oHR1GGluHXdp"
   },
   "outputs": [],
   "source": [
    "import pandas as pd\n",
    "import numpy as np\n",
    "df1 = pd.read_csv('california_housing_test.csv')\n",
    "df1 =df1.dropna()\n",
    "X = df1.copy()\n",
    "X.pop('median_house_value')\n",
    "y = df1.median_house_value.copy()\n",
    "\n",
    "from sklearn.model_selection import train_test_split\n",
    "X_train, X_test, y_train, y_test = train_test_split(X, y, test_size=0.2, random_state=1)\n",
    "X_train, X_val, y_train, y_val = train_test_split(X_train, y_train, test_size=0.25, random_state=1) # 0.25 x 0.8 = 0.2\n",
    "\n",
    "from sklearn.preprocessing import StandardScaler\n",
    "sc = StandardScaler()\n",
    "X_train = sc.fit_transform(X_train) #Create standardization and apply to train data\n",
    "X_test = sc.transform(X_test)       #Apply created standardization to new data\n",
    "X_val = sc.transform(X_val)         #Apply created standardization to new data\n",
    "\n",
    "from sklearn.decomposition import PCA\n",
    "pca = PCA(n_components = 0.9, svd_solver='full')\n",
    "X_train = pca.fit_transform(X_train) #Create PCA and apply to train data\n",
    "X_test = pca.transform(X_test)       #Apply created PCA to new data\n",
    "X_val = pca.transform(X_val)         #Apply created normalization to new data"
   ]
  },
  {
   "cell_type": "markdown",
   "metadata": {
    "id": "Io0vfhBEVulX"
   },
   "source": [
    "# Creating model, predict and performance functions"
   ]
  },
  {
   "cell_type": "code",
   "execution_count": 2,
   "metadata": {
    "id": "51oRdGyODRvj"
   },
   "outputs": [],
   "source": [
    "from sklearn.ensemble import GradientBoostingRegressor\n",
    "def ModelFunction(params, X_train, y_train):\n",
    "    gbr = GradientBoostingRegressor(n_estimators      = 6000,\n",
    "                                    learning_rate     = params['learning_rate'],\n",
    "                                    max_depth         = params['max_depth'],\n",
    "                                    max_features      = params['max_features'],\n",
    "                                    min_samples_leaf  = 10,\n",
    "                                    min_samples_split = 8,\n",
    "                                    random_state=42)\n",
    "\n",
    "    model = gbr.fit(X_train, y_train)\n",
    "    return model\n",
    "\n",
    "def PredictFunction(model, X):\n",
    "    y_pred = model.predict(X)\n",
    "    return y_pred\n",
    "\n",
    "import numpy as np\n",
    "from sklearn.metrics import mean_absolute_error, mean_squared_error, r2_score\n",
    "def PerformanceFunction(y_test, y_pred):\n",
    "    model_mae = mean_absolute_error(y_test, y_pred)\n",
    "    model_mse = mean_squared_error(y_test, y_pred)\n",
    "    model_rmse = np.sqrt(mean_squared_error(y_test, y_pred))\n",
    "    model_r2 = r2_score(y_test, y_pred)\n",
    "    \n",
    "    \n",
    "    model_results = {\"Mean Absolute Error (MAE)\": model_mae,\n",
    "                     \"Mean Squared Error (MSE)\": model_mse,\n",
    "                     \"Root Mean Squared Error (RMSE)\": model_rmse,\n",
    "                     \"Adjusted R^2 Score\": model_r2}\n",
    "    return model_results"
   ]
  },
  {
   "cell_type": "markdown",
   "metadata": {
    "id": "BIKhPozCVulY"
   },
   "source": [
    "# Function that will update table"
   ]
  },
  {
   "cell_type": "code",
   "execution_count": 3,
   "metadata": {
    "id": "yKRhJ2F6BE1r"
   },
   "outputs": [],
   "source": [
    "def print_status(self): # Shows the parameters used and accuracy attained of the search so far.\n",
    "        global app\n",
    "        results = pd.DataFrame(dict(self.scores, **self.params), index=[0])\n",
    "        app.table.model.df = pd.concat([app.table.model.df, results], ignore_index=True, axis=0)\n",
    "        \n",
    "        app.table.autoResizeColumns()\n",
    "        app.update()"
   ]
  },
  {
   "cell_type": "markdown",
   "metadata": {
    "id": "eaQWuPF-BTHG"
   },
   "source": [
    "# Custom Estimator wrapper"
   ]
  },
  {
   "cell_type": "code",
   "execution_count": 4,
   "metadata": {
    "id": "MnAYvf5HBWh-"
   },
   "outputs": [],
   "source": [
    "from skopt.learning.gaussian_process.kernels import Hyperparameter\n",
    "from sklearn.base import BaseEstimator\n",
    "from sklearn.utils.validation import check_X_y, check_array, check_is_fitted\n",
    "\n",
    "hyperparameters = {'n_estimators':      [5000,6000], # Upper and lower bounds\n",
    "                   'learning_rate':     [0.001,0.01], # Upper and lower bounds\n",
    "                   'max_depth':         [2,6], # Upper and lower bounds\n",
    "                   'max_features':      ['sqrt','log2','auto'], # Categorical bounds\n",
    "                   'min_samples_leaf':  [1,21], # Upper and lower bounds\n",
    "                   'min_samples_split': [1,16],} # Upper and lower bounds\n",
    "\n",
    "class WrapperEstimator(BaseEstimator):\n",
    "    def __init__(self, learning_rate=0.1, max_depth=4, max_features='sqrt'):\n",
    "        self.learning_rate = learning_rate\n",
    "        self.max_depth = max_depth\n",
    "        self.max_features = max_features\n",
    "        self.variables = hyperparameters\n",
    "\n",
    "    def fit(self, X, y):\n",
    "\n",
    "        self.params = {\n",
    "            'learning_rate': self.learning_rate,\n",
    "            'max_depth': self.max_depth,\n",
    "            'max_features': self.max_features\n",
    "        }\n",
    "\n",
    "        X, y = check_X_y(X, y, accept_sparse=True)\n",
    "\n",
    "        self.model = ModelFunction(self.params, X, y)\n",
    "\n",
    "        self.is_fitted_ = True\n",
    "        \n",
    "        return self\n",
    "\n",
    "    def predict(self, X):\n",
    "        X = check_array(X, accept_sparse=True)\n",
    "        check_is_fitted(self, 'is_fitted_')\n",
    "        prediction = PredictFunction(self.model,X)\n",
    "        return prediction\n",
    "\n",
    "    def score(self, X, y, sample_weight=None):\n",
    "        model = self.model\n",
    "        y_pred = self.predict(X)\n",
    "        self.scores = PerformanceFunction(y, y_pred)\n",
    "        print_status(self)\n",
    "        return self.scores['Adjusted R^2 Score']"
   ]
  },
  {
   "cell_type": "code",
   "execution_count": 5,
   "metadata": {
    "id": "2_jQg0Hzbguw"
   },
   "outputs": [
    {
     "data": {
      "text/plain": [
       "<bound method BaseEstimator.get_params of WrapperEstimator()>"
      ]
     },
     "execution_count": 5,
     "metadata": {},
     "output_type": "execute_result"
    }
   ],
   "source": [
    "WrapperEstimator().get_params"
   ]
  },
  {
   "cell_type": "markdown",
   "metadata": {
    "id": "C6j1n8x6WjYr"
   },
   "source": [
    "# Optimizer types"
   ]
  },
  {
   "cell_type": "markdown",
   "metadata": {
    "id": "5YZZl2iiWoCw"
   },
   "source": [
    "## Bayesian"
   ]
  },
  {
   "cell_type": "code",
   "execution_count": 6,
   "metadata": {
    "id": "kQgftafaVulR"
   },
   "outputs": [],
   "source": [
    "def BayesianOpt(X_train, y_train):\n",
    "    global app\n",
    "\n",
    "    from skopt.space import Real, Categorical, Integer\n",
    "    from skopt import BayesSearchCV\n",
    "    from sklearn.ensemble import GradientBoostingRegressor\n",
    "\n",
    "    WrapperEstimator().set_params()\n",
    "    \n",
    "    bayReg = BayesSearchCV(\n",
    "        WrapperEstimator(),\n",
    "        {\n",
    "            'n_estimators':      Real(5000,6000),\n",
    "            'learning_rate':     Real(0.001,0.01),\n",
    "            'max_depth':         Integer(2,6),\n",
    "            'max_features':      Categorical(['sqrt','log2','auto']),\n",
    "            'min_samples_leaf':  Integer(1,21),\n",
    "            'min_samples_split': Integer(1,16),\n",
    "        },\n",
    "        random_state = 42 ,\n",
    "        verbose = 0,\n",
    "        n_iter = 100 ,\n",
    "        cv = 2 ,\n",
    "        n_jobs = 1 ,\n",
    "        n_points = 2\n",
    "    )\n",
    "\n",
    "    model1 = bayReg.fit(X_train, y_train) # Included callback function that is called after every iteration\n",
    "\n",
    "    app.table.model.df = pd.DataFrame(bayReg.cv_results_).drop(['params'], axis=1)\n",
    "    app.table.autoResizeColumns()\n",
    "\n",
    "    print('Finish')"
   ]
  },
  {
   "cell_type": "markdown",
   "metadata": {
    "id": "NcpfMSTbWs1d"
   },
   "source": [
    "## Grid"
   ]
  },
  {
   "cell_type": "code",
   "execution_count": 7,
   "metadata": {
    "id": "m8uLpdaZWwTE"
   },
   "outputs": [],
   "source": [
    "def GridOpt(X_train, y_train):\n",
    "    from skopt.space import Real, Categorical, Integer\n",
    "    from sklearn.model_selection import GridSearchCV\n",
    "    from sklearn.ensemble import GradientBoostingRegressor\n",
    "\n",
    "    grid = GridSearchCV(\n",
    "        WrapperEstimator(),\n",
    "        {\n",
    "            'max_features': ['sqrt','log2'] ,\n",
    "            'learning_rate': np.linspace(0.1,0.3,10) ,\n",
    "            'max_depth': range(3,7) ,\n",
    "        },\n",
    "        verbose = 0,\n",
    "        cv = 2 ,\n",
    "        n_jobs = 1 ,\n",
    "    )\n",
    "    grid.cv_results_ = {}\n",
    "    model1 = grid.fit(X_train, y_train) # Included callback function that is called after every iteration\n",
    "\n",
    "    app.table.model.df = pd.DataFrame(grid.cv_results_).drop(['params'], axis=1)\n",
    "    app.table.autoResizeColumns()"
   ]
  },
  {
   "cell_type": "markdown",
   "metadata": {
    "id": "mjyuCP0fWufm"
   },
   "source": [
    "## Random"
   ]
  },
  {
   "cell_type": "code",
   "execution_count": 8,
   "metadata": {
    "id": "Iw0JU1RvWwC-"
   },
   "outputs": [],
   "source": [
    "def RandomOpt(X_train, y_train):    \n",
    "    from skopt.space import Real, Categorical, Integer\n",
    "    from sklearn.model_selection import RandomizedSearchCV\n",
    "    from sklearn.ensemble import GradientBoostingRegressor\n",
    "\n",
    "    randomSearch = RandomizedSearchCV(\n",
    "        WrapperEstimator(),\n",
    "        {\n",
    "            'max_features': ['sqrt','log2'] ,\n",
    "            'learning_rate': np.linspace(0.1,0.3,10) ,\n",
    "            'max_depth': range(3,7) ,\n",
    "        },\n",
    "        random_state = 42 ,\n",
    "        verbose = 0,\n",
    "        n_iter = 10 ,\n",
    "        cv = 2 ,\n",
    "        n_jobs = 1 ,\n",
    "    )\n",
    "\n",
    "    model1 = randomSearch.fit(X_train, y_train) # Included callback function that is called after every iteration\n",
    "\n",
    "    app.table.model.df = pd.DataFrame(randomSearch.cv_results_).drop(['params'], axis=1)\n",
    "    app.table.autoResizeColumns()"
   ]
  },
  {
   "cell_type": "markdown",
   "metadata": {
    "id": "iitVosAuH4vT"
   },
   "source": [
    "# Creating app class"
   ]
  },
  {
   "cell_type": "code",
   "execution_count": 9,
   "metadata": {
    "id": "G9SvA4ZxWlZ-"
   },
   "outputs": [],
   "source": [
    "from tkinter import *\n",
    "from pandastable import Table, TableModel, config\n",
    "\n",
    "class App(Frame):\n",
    "        def __init__(self, parent=None):\n",
    "            self.parent = parent\n",
    "            Frame.__init__(self)\n",
    "            self.main = self.master\n",
    "            self.main.geometry('600x400+200+100')\n",
    "            self.main.title('Optimizer')\n",
    "            self.f = Frame(self.main)\n",
    "            self.f.pack(fill=BOTH,expand=1)\n",
    "            df = pd.DataFrame()\n",
    "            self.table = pt = Table(self.f, dataframe=df,\n",
    "                                    showtoolbar=True, showstatusbar=True)\n",
    "            pt.show() \n",
    "            options = {'colheadercolor':'green','floatprecision': 5} # set some options\n",
    "            config.apply_options(options, pt)\n",
    "            pt.show()\n",
    "            return"
   ]
  },
  {
   "cell_type": "markdown",
   "metadata": {
    "id": "s8eu_Y7mWMLS"
   },
   "source": [
    "# Running app (Not compatible with colab)"
   ]
  },
  {
   "cell_type": "code",
   "execution_count": null,
   "metadata": {
    "colab": {
     "base_uri": "https://localhost:8080/",
     "height": 380
    },
    "id": "1zfYXCLgWLbd",
    "outputId": "2d9f78a2-855d-41dc-b563-82385895180f",
    "scrolled": false
   },
   "outputs": [],
   "source": [
    "app = App()\n",
    "\n",
    "def bayesian():\n",
    "    BayesianOpt(X_train, y_train)\n",
    "\n",
    "def grid():\n",
    "    GridOpt(X_train, y_train)\n",
    "\n",
    "def random():\n",
    "    RandomOpt(X_train, y_train)\n",
    "\n",
    "app.after(100, random)\n",
    "\n",
    "app.mainloop()"
   ]
  },
  {
   "cell_type": "markdown",
   "metadata": {
    "id": "kQaNrfrVePZY"
   },
   "source": [
    "# To Do:"
   ]
  },
  {
   "cell_type": "markdown",
   "metadata": {
    "id": "yO5ygUIiePZY"
   },
   "source": [
    "1 - Dynamically adding hyperparameters to wrapper\n",
    "\n",
    "2 - Parallel compatibility\n",
    "\n",
    "3 - Column sizing\n",
    "\n",
    "4 - Implement all scores on final table"
   ]
  }
 ],
 "metadata": {
  "colab": {
   "collapsed_sections": [],
   "provenance": []
  },
  "kernelspec": {
   "display_name": "Python 3 (ipykernel)",
   "language": "python",
   "name": "python3"
  },
  "language_info": {
   "codemirror_mode": {
    "name": "ipython",
    "version": 3
   },
   "file_extension": ".py",
   "mimetype": "text/x-python",
   "name": "python",
   "nbconvert_exporter": "python",
   "pygments_lexer": "ipython3",
   "version": "3.9.12"
  },
  "vscode": {
   "interpreter": {
    "hash": "ee00e7d6e1ac809fda3faab8d8d4671a7d9fc01bf74004d7c8181c9830df034d"
   }
  }
 },
 "nbformat": 4,
 "nbformat_minor": 1
}
