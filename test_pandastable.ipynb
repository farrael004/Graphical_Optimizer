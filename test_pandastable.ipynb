{
 "cells": [
  {
   "cell_type": "code",
   "execution_count": null,
   "metadata": {},
   "outputs": [],
   "source": [
    "from tkinter import *\n",
    "import tkinter as tk\n",
    "import pandas as pd\n",
    "from pandastable import Table, TableModel, config\n",
    "import threading\n",
    "\n",
    "class App(Frame, threading.Thread):\n",
    "        def __init__(self, parent=None):\n",
    "            self.parent = parent\n",
    "            threading.Thread.__init__(self)\n",
    "            self.start()\n",
    "            \n",
    "        def callback(self):\n",
    "            self.root.quit()\n",
    "            \n",
    "        def run(self):\n",
    "            Frame.__init__(self)\n",
    "            self.main = self.master\n",
    "            self.main.geometry('600x400+200+100')\n",
    "            self.main.title('Optimizer')\n",
    "            self.f = Frame(self.main)\n",
    "            self.f.pack(fill=BOTH,expand=1)\n",
    "            df = pd.DataFrame()\n",
    "            self.table = pt = Table(self.f, dataframe=df,\n",
    "                                    showtoolbar=True, showstatusbar=True)\n",
    "            pt.show() \n",
    "            options = {'colheadercolor':'green','floatprecision': 5} # set some options\n",
    "            config.apply_options(options, pt)\n",
    "            pt.show()\n",
    "\n",
    "            self.mainloop()"
   ]
  },
  {
   "cell_type": "code",
   "execution_count": null,
   "metadata": {},
   "outputs": [],
   "source": [
    "import time\n",
    "\n",
    "app = App()\n",
    "\n",
    "def do_something(seconds):                                          # This is a sample function that represents any arbitrary task\n",
    "    global app\n",
    "    results = pd.DataFrame({'test': seconds}, index=[0])\n",
    "    app.table.model.df = pd.concat([app.table.model.df, results], ignore_index=True, axis=0)\n",
    "\n",
    "    app.table.redraw()\n",
    "    \n",
    "    time.sleep(seconds) \n",
    "    return 'Done'\n",
    "\n",
    "\n",
    "time.sleep(1) \n",
    "\n",
    "for i in range(10):\n",
    "    do_something(1)"
   ]
  },
  {
   "cell_type": "code",
   "execution_count": 25,
   "metadata": {},
   "outputs": [
    {
     "name": "stdout",
     "output_type": "stream",
     "text": [
      "Maximum number of parallel processes: 20\n",
      "Finished in 10.24 second(s)\n"
     ]
    }
   ],
   "source": [
    "import concurrent.futures\n",
    "import time\n",
    "import random\n",
    "\n",
    "app = App()\n",
    "time.sleep(1)\n",
    "start = time.perf_counter()                                         # Record when the code started running\n",
    "\n",
    "def do_something(seconds, i):                                          # This is a sample function that represents any arbitrary task\n",
    "    global df\n",
    "    results = pd.DataFrame({'test1': random.random(),\n",
    "                            'test2': random.randint(0,999999),\n",
    "                            'test3': random.random(),\n",
    "                            'test4': random.random(),\n",
    "                            'test5': random.randint(0,999999),\n",
    "                            'test6': random.randint(0,999999)}, index=[0])\n",
    "    \n",
    "    time.sleep(seconds) \n",
    "    return i, results\n",
    "\n",
    "# Parallelization block. Here's where the code calls functions and queues them for parallel execution\n",
    "with concurrent.futures.ThreadPoolExecutor() as executor:          # This syntax helps to automate a few things under the hood\n",
    "    print(\"Maximum number of parallel processes: \" + str(executor._max_workers))\n",
    "    results = [executor.submit(do_something, 1, i) for i in range(200)] # List comprehension to create a list of executions for them to be used later. This is also the part that queues the functions for parallel execution\n",
    "    indexes = []\n",
    "    for f in concurrent.futures.as_completed(results):              # Iteration through list of executions and will only end when all functions end\n",
    "        i, result = f.result()\n",
    "        indexes.append(i)\n",
    "        app.table.model.df = pd.concat([app.table.model.df, result], ignore_index=True, axis=0)\n",
    "        \n",
    "        \n",
    "    app.table.redraw()\n",
    "    for i in range(200):\n",
    "        if i not in app.table.model.df.index.values:\n",
    "            print(i)\n",
    "\n",
    "finish = time.perf_counter()                                        # Records when the code finished running\n",
    "\n",
    "print(f'Finished in {round(finish-start, 2)} second(s)')            # Find out how long the code ran for"
   ]
  }
 ],
 "metadata": {
  "kernelspec": {
   "display_name": "Python 3.10.6 ('graphical_optimizer')",
   "language": "python",
   "name": "python3"
  },
  "language_info": {
   "codemirror_mode": {
    "name": "ipython",
    "version": 3
   },
   "file_extension": ".py",
   "mimetype": "text/x-python",
   "name": "python",
   "nbconvert_exporter": "python",
   "pygments_lexer": "ipython3",
   "version": "3.10.6"
  },
  "orig_nbformat": 4,
  "vscode": {
   "interpreter": {
    "hash": "f7c0d3bb6a7871e53873bc4f685e6ff9456bd483d6ec0353bcafb12e5e0cf742"
   }
  }
 },
 "nbformat": 4,
 "nbformat_minor": 2
}
