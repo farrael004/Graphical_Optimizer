{
 "cells": [
  {
   "cell_type": "code",
   "execution_count": null,
   "metadata": {},
   "outputs": [],
   "source": [
    "from tkinter import *\n",
    "import tkinter as tk\n",
    "import pandas as pd\n",
    "from pandastable import Table, TableModel, config\n",
    "import threading\n",
    "\n",
    "class App(Frame, threading.Thread):\n",
    "        def __init__(self, parent=None):\n",
    "            self.parent = parent\n",
    "            threading.Thread.__init__(self)\n",
    "            self.start()\n",
    "            \n",
    "        def callback(self):\n",
    "            self.root.quit()\n",
    "            \n",
    "        def run(self):\n",
    "            Frame.__init__(self)\n",
    "            self.main = self.master\n",
    "            self.main.geometry('600x400+200+100')\n",
    "            self.main.title('Optimizer')\n",
    "            self.f = Frame(self.main)\n",
    "            self.f.pack(fill=BOTH,expand=1)\n",
    "            df = pd.DataFrame()\n",
    "            self.table = pt = Table(self.f, dataframe=df,\n",
    "                                    showtoolbar=True, showstatusbar=True)\n",
    "            pt.show() \n",
    "            options = {'colheadercolor':'green','floatprecision': 5} # set some options\n",
    "            config.apply_options(options, pt)\n",
    "            pt.show()\n",
    "\n",
    "            self.mainloop()"
   ]
  },
  {
   "cell_type": "code",
   "execution_count": null,
   "metadata": {},
   "outputs": [],
   "source": [
    "import time\n",
    "\n",
    "app = App()\n",
    "\n",
    "def do_something(seconds):                                          # This is a sample function that represents any arbitrary task\n",
    "    global app\n",
    "    results = pd.DataFrame({'test': seconds}, index=[0])\n",
    "    app.table.model.df = pd.concat([app.table.model.df, results], ignore_index=True, axis=0)\n",
    "\n",
    "    app.table.redraw()\n",
    "    \n",
    "    time.sleep(seconds) \n",
    "    return 'Done'\n",
    "\n",
    "\n",
    "time.sleep(1) \n",
    "\n",
    "for i in range(10):\n",
    "    do_something(1)"
   ]
  },
  {
   "cell_type": "code",
   "execution_count": null,
   "metadata": {},
   "outputs": [],
   "source": [
    "import concurrent.futures\n",
    "import time\n",
    "\n",
    "app = App()\n",
    "time.sleep(1)\n",
    "start = time.perf_counter()                                         # Record when the code started running\n",
    "\n",
    "def do_something(seconds):                                          # This is a sample function that represents any arbitrary task\n",
    "    global app\n",
    "    results = pd.DataFrame({'test': seconds, 'test2': 2}, index=[0])\n",
    "    app.table.model.df = pd.concat([app.table.model.df, results], ignore_index=True, axis=0)\n",
    "\n",
    "    app.table.redraw()\n",
    "    \n",
    "    time.sleep(seconds) \n",
    "    #return 'Done'\n",
    "\n",
    "# Parallelization block. Here's where the code calls functions and queues them for parallel execution\n",
    "with concurrent.futures.ThreadPoolExecutor() as executor:          # This syntax helps to automate a few things under the hood\n",
    "    print(\"Maximum number of parallel processes: \" + str(executor._max_workers))\n",
    "    results = [executor.submit(do_something, 1) for _ in range(100)] # List comprehension to create a list of executions for them to be used later. This is also the part that queues the functions for parallel execution\n",
    "    #for f in concurrent.futures.as_completed(results):              # Iteration through list of executions and will only end when all functions end\n",
    "        #print(f.result())                                           # .results() will return the function output when if finishes executing. In our case, this will be the model's predictions\n",
    "\n",
    "finish = time.perf_counter()                                        # Records when the code finished running\n",
    "\n",
    "print(f'Finished in {round(finish-start, 2)} second(s)')            # Find out how long the code ran for"
   ]
  }
 ],
 "metadata": {
  "kernelspec": {
   "display_name": "Python 3.9.13 ('base')",
   "language": "python",
   "name": "python3"
  },
  "language_info": {
   "codemirror_mode": {
    "name": "ipython",
    "version": 3
   },
   "file_extension": ".py",
   "mimetype": "text/x-python",
   "name": "python",
   "nbconvert_exporter": "python",
   "pygments_lexer": "ipython3",
   "version": "3.9.13"
  },
  "orig_nbformat": 4,
  "vscode": {
   "interpreter": {
    "hash": "3e3763a57b4ffe0d06e963ec4b7f8ef3a748cbfdb342037439726ee83e94c05b"
   }
  }
 },
 "nbformat": 4,
 "nbformat_minor": 2
}
