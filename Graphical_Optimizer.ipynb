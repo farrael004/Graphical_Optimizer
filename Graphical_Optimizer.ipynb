{
  "cells": [
    {
      "cell_type": "code",
      "source": [
        "!pip install 'scikit-optimize'\n",
        "!pip install pandastable"
      ],
      "metadata": {
        "colab": {
          "base_uri": "https://localhost:8080/"
        },
        "id": "1Fm2suw0eqdz",
        "outputId": "9cef1ddf-fc65-42ec-9fab-4f40bbcf2b12"
      },
      "execution_count": null,
      "outputs": [
        {
          "output_type": "stream",
          "name": "stdout",
          "text": [
            "Looking in indexes: https://pypi.org/simple, https://us-python.pkg.dev/colab-wheels/public/simple/\n",
            "Collecting scikit-optimize\n",
            "  Downloading scikit_optimize-0.9.0-py2.py3-none-any.whl (100 kB)\n",
            "\u001b[K     |████████████████████████████████| 100 kB 5.1 MB/s \n",
            "\u001b[?25hRequirement already satisfied: scikit-learn>=0.20.0 in /usr/local/lib/python3.7/dist-packages (from scikit-optimize) (1.0.2)\n",
            "Collecting pyaml>=16.9\n",
            "  Downloading pyaml-21.10.1-py2.py3-none-any.whl (24 kB)\n",
            "Requirement already satisfied: numpy>=1.13.3 in /usr/local/lib/python3.7/dist-packages (from scikit-optimize) (1.21.6)\n",
            "Requirement already satisfied: scipy>=0.19.1 in /usr/local/lib/python3.7/dist-packages (from scikit-optimize) (1.7.3)\n",
            "Requirement already satisfied: joblib>=0.11 in /usr/local/lib/python3.7/dist-packages (from scikit-optimize) (1.2.0)\n",
            "Requirement already satisfied: PyYAML in /usr/local/lib/python3.7/dist-packages (from pyaml>=16.9->scikit-optimize) (6.0)\n",
            "Requirement already satisfied: threadpoolctl>=2.0.0 in /usr/local/lib/python3.7/dist-packages (from scikit-learn>=0.20.0->scikit-optimize) (3.1.0)\n",
            "Installing collected packages: pyaml, scikit-optimize\n",
            "Successfully installed pyaml-21.10.1 scikit-optimize-0.9.0\n",
            "Looking in indexes: https://pypi.org/simple, https://us-python.pkg.dev/colab-wheels/public/simple/\n",
            "Collecting pandastable\n",
            "  Downloading pandastable-0.13.0.tar.gz (241 kB)\n",
            "\u001b[K     |████████████████████████████████| 241 kB 5.9 MB/s \n",
            "\u001b[?25hRequirement already satisfied: matplotlib>=2.0 in /usr/local/lib/python3.7/dist-packages (from pandastable) (3.2.2)\n",
            "Requirement already satisfied: pandas>=1.1 in /usr/local/lib/python3.7/dist-packages (from pandastable) (1.3.5)\n",
            "Requirement already satisfied: numexpr>=2.4 in /usr/local/lib/python3.7/dist-packages (from pandastable) (2.8.3)\n",
            "Requirement already satisfied: xlrd>=0.9 in /usr/local/lib/python3.7/dist-packages (from pandastable) (1.1.0)\n",
            "Requirement already satisfied: future in /usr/local/lib/python3.7/dist-packages (from pandastable) (0.16.0)\n",
            "Requirement already satisfied: python-dateutil>=2.1 in /usr/local/lib/python3.7/dist-packages (from matplotlib>=2.0->pandastable) (2.8.2)\n",
            "Requirement already satisfied: kiwisolver>=1.0.1 in /usr/local/lib/python3.7/dist-packages (from matplotlib>=2.0->pandastable) (1.4.4)\n",
            "Requirement already satisfied: numpy>=1.11 in /usr/local/lib/python3.7/dist-packages (from matplotlib>=2.0->pandastable) (1.21.6)\n",
            "Requirement already satisfied: pyparsing!=2.0.4,!=2.1.2,!=2.1.6,>=2.0.1 in /usr/local/lib/python3.7/dist-packages (from matplotlib>=2.0->pandastable) (3.0.9)\n",
            "Requirement already satisfied: cycler>=0.10 in /usr/local/lib/python3.7/dist-packages (from matplotlib>=2.0->pandastable) (0.11.0)\n",
            "Requirement already satisfied: typing-extensions in /usr/local/lib/python3.7/dist-packages (from kiwisolver>=1.0.1->matplotlib>=2.0->pandastable) (4.1.1)\n",
            "Requirement already satisfied: packaging in /usr/local/lib/python3.7/dist-packages (from numexpr>=2.4->pandastable) (21.3)\n",
            "Requirement already satisfied: pytz>=2017.3 in /usr/local/lib/python3.7/dist-packages (from pandas>=1.1->pandastable) (2022.4)\n",
            "Requirement already satisfied: six>=1.5 in /usr/local/lib/python3.7/dist-packages (from python-dateutil>=2.1->matplotlib>=2.0->pandastable) (1.15.0)\n",
            "Building wheels for collected packages: pandastable\n",
            "  Building wheel for pandastable (setup.py) ... \u001b[?25l\u001b[?25hdone\n",
            "  Created wheel for pandastable: filename=pandastable-0.13.0-py3-none-any.whl size=256128 sha256=6d4232ecd1e8fa70ef83d41c5b5b9063178c9be94d1aaca0ef4cea4bf46da531\n",
            "  Stored in directory: /root/.cache/pip/wheels/64/7e/4e/3eaa6a053d48af9498c1b35b1675ed24d9e92933a6095809f9\n",
            "Successfully built pandastable\n",
            "Installing collected packages: pandastable\n",
            "Successfully installed pandastable-0.13.0\n"
          ]
        }
      ]
    },
    {
      "cell_type": "markdown",
      "metadata": {
        "id": "vaUUN0wQHm4D"
      },
      "source": [
        "## Loading Data"
      ]
    },
    {
      "cell_type": "code",
      "execution_count": null,
      "metadata": {
        "id": "oHR1GGluHXdp"
      },
      "outputs": [],
      "source": [
        "import pandas as pd\n",
        "import numpy as np\n",
        "df1 = pd.read_csv('/content/sample_data/california_housing_test.csv')\n",
        "df1 =df1.dropna()\n",
        "X = df1.copy()\n",
        "X.pop('median_house_value')\n",
        "y = df1.median_house_value.copy()\n",
        "\n",
        "from sklearn.model_selection import train_test_split\n",
        "X_train, X_test, y_train, y_test = train_test_split(X, y, test_size=0.2, random_state=1)\n",
        "X_train, X_val, y_train, y_val = train_test_split(X_train, y_train, test_size=0.25, random_state=1) # 0.25 x 0.8 = 0.2\n",
        "\n",
        "from sklearn.preprocessing import StandardScaler\n",
        "sc = StandardScaler()\n",
        "X_train = sc.fit_transform(X_train) #Create standardization and apply to train data\n",
        "X_test = sc.transform(X_test)       #Apply created standardization to new data\n",
        "X_val = sc.transform(X_val)         #Apply created standardization to new data\n",
        "\n",
        "from sklearn.decomposition import PCA\n",
        "pca = PCA(n_components = 0.9, svd_solver='full')\n",
        "X_train = pca.fit_transform(X_train) #Create PCA and apply to train data\n",
        "X_test = pca.transform(X_test)       #Apply created PCA to new data\n",
        "X_val = pca.transform(X_val)         #Apply created normalization to new data"
      ]
    },
    {
      "cell_type": "markdown",
      "metadata": {
        "id": "Io0vfhBEVulX"
      },
      "source": [
        "# Creating model, predict and performance functions"
      ]
    },
    {
      "cell_type": "code",
      "execution_count": null,
      "metadata": {
        "id": "51oRdGyODRvj"
      },
      "outputs": [],
      "source": [
        "from sklearn.ensemble import GradientBoostingRegressor\n",
        "def ModelFunction(params, X_train, y_train):\n",
        "    gbr = GradientBoostingRegressor(n_estimators      = 6000,\n",
        "                                    learning_rate     = params['learning_rate'],\n",
        "                                    max_depth         = params['max_depth'],\n",
        "                                    max_features      = params['max_features'],\n",
        "                                    min_samples_leaf  = 10,\n",
        "                                    min_samples_split = 8,\n",
        "                                    random_state=42)\n",
        "\n",
        "    model = gbr.fit(X_train, y_train)\n",
        "    return model\n",
        "\n",
        "def PredictFunction(model, X):\n",
        "    y_pred = model.predict(X)\n",
        "    return y_pred\n",
        "\n",
        "import numpy as np\n",
        "from sklearn.metrics import mean_absolute_error, mean_squared_error, r2_score\n",
        "def PerformanceFunction(y_test, y_pred):\n",
        "    model_mae = mean_absolute_error(y_test, y_pred)\n",
        "    model_mse = mean_squared_error(y_test, y_pred)\n",
        "    model_rmse = np.sqrt(mean_squared_error(y_test, y_pred))\n",
        "    model_r2 = r2_score(y_test, y_pred)\n",
        "    \n",
        "    \n",
        "    model_results = {\"Mean Absolute Error (MAE)\": model_mae,\n",
        "                     \"Mean Squared Error (MSE)\": model_mse,\n",
        "                     \"Root Mean Squared Error (RMSE)\": model_rmse,\n",
        "                     \"Adjusted R^2 Score\": model_r2}\n",
        "    return model_results"
      ]
    },
    {
      "cell_type": "markdown",
      "metadata": {
        "id": "BIKhPozCVulY"
      },
      "source": [
        "# Function that will update table"
      ]
    },
    {
      "cell_type": "code",
      "execution_count": null,
      "metadata": {
        "id": "yKRhJ2F6BE1r"
      },
      "outputs": [],
      "source": [
        "def print_status(self): # Shows the parameters used and accuracy attained of the search so far.\n",
        "        global app\n",
        "        results = pd.DataFrame(dict(self.scores, **self.params), index=[0])\n",
        "        app.table.model.df = pd.concat([app.table.model.df, results], ignore_index=True, axis=0)\n",
        "        \n",
        "        app.table.autoResizeColumns()\n",
        "        app.update()"
      ]
    },
    {
      "cell_type": "markdown",
      "metadata": {
        "id": "eaQWuPF-BTHG"
      },
      "source": [
        "# Custom Estimator wrapper"
      ]
    },
    {
      "cell_type": "code",
      "execution_count": null,
      "metadata": {
        "id": "MnAYvf5HBWh-"
      },
      "outputs": [],
      "source": [
        "from skopt.learning.gaussian_process.kernels import Hyperparameter\n",
        "from sklearn.base import BaseEstimator\n",
        "from sklearn.utils.validation import check_X_y, check_array, check_is_fitted\n",
        "\n",
        "hyperparameters = {'n_estimators':      [5000,6000], # Upper and lower bounds\n",
        "                   'learning_rate':     [0.001,0.01], # Upper and lower bounds\n",
        "                   'max_depth':         [2,6], # Upper and lower bounds\n",
        "                   'max_features':      ['sqrt','log2','auto'], # Categorical bounds\n",
        "                   'min_samples_leaf':  [1,21], # Upper and lower bounds\n",
        "                   'min_samples_split': [1,16],} # Upper and lower bounds\n",
        "\n",
        "class WrapperEstimator(BaseEstimator):\n",
        "    def __init__(self, learning_rate=0.1, max_depth=4, max_features='sqrt'):\n",
        "        self.learning_rate = learning_rate\n",
        "        self.max_depth = max_depth\n",
        "        self.max_features = max_features\n",
        "        self.variables = hyperparameters\n",
        "\n",
        "    def fit(self, X, y):\n",
        "\n",
        "        self.params = {\n",
        "            'learning_rate': self.learning_rate,\n",
        "            'max_depth': self.max_depth,\n",
        "            'max_features': self.max_features\n",
        "        }\n",
        "\n",
        "        X, y = check_X_y(X, y, accept_sparse=True)\n",
        "\n",
        "        self.model = ModelFunction(self.params, X, y)\n",
        "\n",
        "        self.is_fitted_ = True\n",
        "        \n",
        "        return self\n",
        "\n",
        "    def predict(self, X):\n",
        "        X = check_array(X, accept_sparse=True)\n",
        "        check_is_fitted(self, 'is_fitted_')\n",
        "        prediction = PredictFunction(self.model,X)\n",
        "        return prediction\n",
        "\n",
        "    def score(self, X, y, sample_weight=None):\n",
        "        model = self.model\n",
        "        y_pred = self.predict(X)\n",
        "        self.scores = PerformanceFunction(y, y_pred)\n",
        "        print_status(self)\n",
        "        return self.scores['Adjusted R^2 Score']"
      ]
    },
    {
      "cell_type": "code",
      "source": [
        "WrapperEstimator().get_params"
      ],
      "metadata": {
        "id": "2_jQg0Hzbguw"
      },
      "execution_count": null,
      "outputs": []
    },
    {
      "cell_type": "markdown",
      "metadata": {
        "id": "C6j1n8x6WjYr"
      },
      "source": [
        "# Optimizer types"
      ]
    },
    {
      "cell_type": "markdown",
      "metadata": {
        "id": "5YZZl2iiWoCw"
      },
      "source": [
        "## Bayesian"
      ]
    },
    {
      "cell_type": "code",
      "execution_count": null,
      "metadata": {
        "id": "kQgftafaVulR"
      },
      "outputs": [],
      "source": [
        "def BayesianOpt(X_train, y_train):\n",
        "    global app\n",
        "\n",
        "    from skopt.space import Real, Categorical, Integer\n",
        "    from skopt import BayesSearchCV\n",
        "    from sklearn.ensemble import GradientBoostingRegressor\n",
        "\n",
        "    WrapperEstimator().set_params()\n",
        "    \n",
        "    bayReg = BayesSearchCV(\n",
        "        WrapperEstimator(),\n",
        "        {\n",
        "            'n_estimators':      Real(5000,6000),\n",
        "            'learning_rate':     Real(0.001,0.01),\n",
        "            'max_depth':         Integer(2,6),\n",
        "            'max_features':      Categorical(['sqrt','log2','auto']),\n",
        "            'min_samples_leaf':  Integer(1,21),\n",
        "            'min_samples_split': Integer(1,16),\n",
        "        },\n",
        "        random_state = 42 ,\n",
        "        verbose = 0,\n",
        "        n_iter = 100 ,\n",
        "        cv = 2 ,\n",
        "        n_jobs = 1 ,\n",
        "        n_points = 2\n",
        "    )\n",
        "\n",
        "    model1 = bayReg.fit(X_train, y_train) # Included callback function that is called after every iteration\n",
        "\n",
        "    app.table.model.df = pd.DataFrame(bayReg.cv_results_).drop(['params'], axis=1)\n",
        "    app.table.autoResizeColumns()\n",
        "\n",
        "    print('Finish')"
      ]
    },
    {
      "cell_type": "markdown",
      "metadata": {
        "id": "NcpfMSTbWs1d"
      },
      "source": [
        "## Grid"
      ]
    },
    {
      "cell_type": "code",
      "execution_count": null,
      "metadata": {
        "id": "m8uLpdaZWwTE"
      },
      "outputs": [],
      "source": [
        "def GridOpt(X_train, y_train):\n",
        "    from skopt.space import Real, Categorical, Integer\n",
        "    from sklearn.model_selection import GridSearchCV\n",
        "    from sklearn.ensemble import GradientBoostingRegressor\n",
        "\n",
        "    grid = GridSearchCV(\n",
        "        WrapperEstimator(),\n",
        "        {\n",
        "            'max_features': ['sqrt','log2'] ,\n",
        "            'learning_rate': np.linspace(0.1,0.3,10) ,\n",
        "            'max_depth': range(3,7) ,\n",
        "        },\n",
        "        verbose = 0,\n",
        "        cv = 2 ,\n",
        "        n_jobs = 1 ,\n",
        "    )\n",
        "    grid.cv_results_ = {}\n",
        "    model1 = grid.fit(X_train, y_train) # Included callback function that is called after every iteration\n",
        "\n",
        "    app.table.model.df = pd.DataFrame(grid.cv_results_).drop(['params'], axis=1)\n",
        "    app.table.autoResizeColumns()"
      ]
    },
    {
      "cell_type": "markdown",
      "metadata": {
        "id": "mjyuCP0fWufm"
      },
      "source": [
        "## Random"
      ]
    },
    {
      "cell_type": "code",
      "execution_count": null,
      "metadata": {
        "id": "Iw0JU1RvWwC-"
      },
      "outputs": [],
      "source": [
        "def RandomOpt(X_train, y_train):    \n",
        "    from skopt.space import Real, Categorical, Integer\n",
        "    from sklearn.model_selection import RandomizedSearchCV\n",
        "    from sklearn.ensemble import GradientBoostingRegressor\n",
        "\n",
        "    randomSearch = RandomizedSearchCV(\n",
        "        WrapperEstimator(),\n",
        "        {\n",
        "            'max_features': ['sqrt','log2'] ,\n",
        "            'learning_rate': np.linspace(0.1,0.3,10) ,\n",
        "            'max_depth': range(3,7) ,\n",
        "        },\n",
        "        random_state = 42 ,\n",
        "        verbose = 0,\n",
        "        n_iter = 10 ,\n",
        "        cv = 2 ,\n",
        "        n_jobs = 1 ,\n",
        "    )\n",
        "\n",
        "    model1 = randomSearch.fit(X_train, y_train) # Included callback function that is called after every iteration\n",
        "\n",
        "    app.table.model.df = pd.DataFrame(randomSearch.cv_results_).drop(['params'], axis=1)\n",
        "    app.table.autoResizeColumns()"
      ]
    },
    {
      "cell_type": "markdown",
      "metadata": {
        "id": "iitVosAuH4vT"
      },
      "source": [
        "# Creating app class"
      ]
    },
    {
      "cell_type": "code",
      "execution_count": null,
      "metadata": {
        "id": "G9SvA4ZxWlZ-"
      },
      "outputs": [],
      "source": [
        "from tkinter import *\n",
        "from pandastable import Table, TableModel, config\n",
        "\n",
        "class App(Frame):\n",
        "        def __init__(self, parent=None):\n",
        "            self.parent = parent\n",
        "            Frame.__init__(self)\n",
        "            self.main = self.master\n",
        "            self.main.geometry('600x400+200+100')\n",
        "            self.main.title('Optimizer')\n",
        "            self.f = Frame(self.main)\n",
        "            self.f.pack(fill=BOTH,expand=1)\n",
        "            df = pd.DataFrame()\n",
        "            self.table = pt = Table(self.f, dataframe=df,\n",
        "                                    showtoolbar=True, showstatusbar=True)\n",
        "            pt.show() \n",
        "            options = {'colheadercolor':'green','floatprecision': 5} # set some options\n",
        "            config.apply_options(options, pt)\n",
        "            pt.show()\n",
        "            return"
      ]
    },
    {
      "cell_type": "markdown",
      "metadata": {
        "id": "s8eu_Y7mWMLS"
      },
      "source": [
        "# Running app (Not compatible with colab)"
      ]
    },
    {
      "cell_type": "code",
      "execution_count": null,
      "metadata": {
        "id": "1zfYXCLgWLbd",
        "colab": {
          "base_uri": "https://localhost:8080/",
          "height": 380
        },
        "outputId": "2d9f78a2-855d-41dc-b563-82385895180f"
      },
      "outputs": [
        {
          "output_type": "error",
          "ename": "TclError",
          "evalue": "ignored",
          "traceback": [
            "\u001b[0;31m---------------------------------------------------------------------------\u001b[0m",
            "\u001b[0;31mTclError\u001b[0m                                  Traceback (most recent call last)",
            "\u001b[0;32m<ipython-input-18-061a399983e4>\u001b[0m in \u001b[0;36m<module>\u001b[0;34m\u001b[0m\n\u001b[0;32m----> 1\u001b[0;31m \u001b[0mapp\u001b[0m \u001b[0;34m=\u001b[0m \u001b[0mApp\u001b[0m\u001b[0;34m(\u001b[0m\u001b[0;34m)\u001b[0m\u001b[0;34m\u001b[0m\u001b[0;34m\u001b[0m\u001b[0m\n\u001b[0m\u001b[1;32m      2\u001b[0m \u001b[0;34m\u001b[0m\u001b[0m\n\u001b[1;32m      3\u001b[0m \u001b[0;32mdef\u001b[0m \u001b[0mbayesian\u001b[0m\u001b[0;34m(\u001b[0m\u001b[0;34m)\u001b[0m\u001b[0;34m:\u001b[0m\u001b[0;34m\u001b[0m\u001b[0;34m\u001b[0m\u001b[0m\n\u001b[1;32m      4\u001b[0m     \u001b[0mBayesianOpt\u001b[0m\u001b[0;34m(\u001b[0m\u001b[0mX_train\u001b[0m\u001b[0;34m,\u001b[0m \u001b[0my_train\u001b[0m\u001b[0;34m)\u001b[0m\u001b[0;34m\u001b[0m\u001b[0;34m\u001b[0m\u001b[0m\n\u001b[1;32m      5\u001b[0m \u001b[0;34m\u001b[0m\u001b[0m\n",
            "\u001b[0;32m<ipython-input-9-60d58aeaa6f6>\u001b[0m in \u001b[0;36m__init__\u001b[0;34m(self, parent)\u001b[0m\n\u001b[1;32m      5\u001b[0m         \u001b[0;32mdef\u001b[0m \u001b[0m__init__\u001b[0m\u001b[0;34m(\u001b[0m\u001b[0mself\u001b[0m\u001b[0;34m,\u001b[0m \u001b[0mparent\u001b[0m\u001b[0;34m=\u001b[0m\u001b[0;32mNone\u001b[0m\u001b[0;34m)\u001b[0m\u001b[0;34m:\u001b[0m\u001b[0;34m\u001b[0m\u001b[0;34m\u001b[0m\u001b[0m\n\u001b[1;32m      6\u001b[0m             \u001b[0mself\u001b[0m\u001b[0;34m.\u001b[0m\u001b[0mparent\u001b[0m \u001b[0;34m=\u001b[0m \u001b[0mparent\u001b[0m\u001b[0;34m\u001b[0m\u001b[0;34m\u001b[0m\u001b[0m\n\u001b[0;32m----> 7\u001b[0;31m             \u001b[0mFrame\u001b[0m\u001b[0;34m.\u001b[0m\u001b[0m__init__\u001b[0m\u001b[0;34m(\u001b[0m\u001b[0mself\u001b[0m\u001b[0;34m)\u001b[0m\u001b[0;34m\u001b[0m\u001b[0;34m\u001b[0m\u001b[0m\n\u001b[0m\u001b[1;32m      8\u001b[0m             \u001b[0mself\u001b[0m\u001b[0;34m.\u001b[0m\u001b[0mmain\u001b[0m \u001b[0;34m=\u001b[0m \u001b[0mself\u001b[0m\u001b[0;34m.\u001b[0m\u001b[0mmaster\u001b[0m\u001b[0;34m\u001b[0m\u001b[0;34m\u001b[0m\u001b[0m\n\u001b[1;32m      9\u001b[0m             \u001b[0mself\u001b[0m\u001b[0;34m.\u001b[0m\u001b[0mmain\u001b[0m\u001b[0;34m.\u001b[0m\u001b[0mgeometry\u001b[0m\u001b[0;34m(\u001b[0m\u001b[0;34m'600x400+200+100'\u001b[0m\u001b[0;34m)\u001b[0m\u001b[0;34m\u001b[0m\u001b[0;34m\u001b[0m\u001b[0m\n",
            "\u001b[0;32m/usr/lib/python3.7/tkinter/__init__.py\u001b[0m in \u001b[0;36m__init__\u001b[0;34m(self, master, cnf, **kw)\u001b[0m\n\u001b[1;32m   2742\u001b[0m             \u001b[0mextra\u001b[0m \u001b[0;34m=\u001b[0m \u001b[0;34m(\u001b[0m\u001b[0;34m'-class'\u001b[0m\u001b[0;34m,\u001b[0m \u001b[0mcnf\u001b[0m\u001b[0;34m[\u001b[0m\u001b[0;34m'class'\u001b[0m\u001b[0;34m]\u001b[0m\u001b[0;34m)\u001b[0m\u001b[0;34m\u001b[0m\u001b[0;34m\u001b[0m\u001b[0m\n\u001b[1;32m   2743\u001b[0m             \u001b[0;32mdel\u001b[0m \u001b[0mcnf\u001b[0m\u001b[0;34m[\u001b[0m\u001b[0;34m'class'\u001b[0m\u001b[0;34m]\u001b[0m\u001b[0;34m\u001b[0m\u001b[0;34m\u001b[0m\u001b[0m\n\u001b[0;32m-> 2744\u001b[0;31m         \u001b[0mWidget\u001b[0m\u001b[0;34m.\u001b[0m\u001b[0m__init__\u001b[0m\u001b[0;34m(\u001b[0m\u001b[0mself\u001b[0m\u001b[0;34m,\u001b[0m \u001b[0mmaster\u001b[0m\u001b[0;34m,\u001b[0m \u001b[0;34m'frame'\u001b[0m\u001b[0;34m,\u001b[0m \u001b[0mcnf\u001b[0m\u001b[0;34m,\u001b[0m \u001b[0;34m{\u001b[0m\u001b[0;34m}\u001b[0m\u001b[0;34m,\u001b[0m \u001b[0mextra\u001b[0m\u001b[0;34m)\u001b[0m\u001b[0;34m\u001b[0m\u001b[0;34m\u001b[0m\u001b[0m\n\u001b[0m\u001b[1;32m   2745\u001b[0m \u001b[0;34m\u001b[0m\u001b[0m\n\u001b[1;32m   2746\u001b[0m \u001b[0;32mclass\u001b[0m \u001b[0mLabel\u001b[0m\u001b[0;34m(\u001b[0m\u001b[0mWidget\u001b[0m\u001b[0;34m)\u001b[0m\u001b[0;34m:\u001b[0m\u001b[0;34m\u001b[0m\u001b[0;34m\u001b[0m\u001b[0m\n",
            "\u001b[0;32m/usr/lib/python3.7/tkinter/__init__.py\u001b[0m in \u001b[0;36m__init__\u001b[0;34m(self, master, widgetName, cnf, kw, extra)\u001b[0m\n\u001b[1;32m   2290\u001b[0m             \u001b[0mcnf\u001b[0m \u001b[0;34m=\u001b[0m \u001b[0m_cnfmerge\u001b[0m\u001b[0;34m(\u001b[0m\u001b[0;34m(\u001b[0m\u001b[0mcnf\u001b[0m\u001b[0;34m,\u001b[0m \u001b[0mkw\u001b[0m\u001b[0;34m)\u001b[0m\u001b[0;34m)\u001b[0m\u001b[0;34m\u001b[0m\u001b[0;34m\u001b[0m\u001b[0m\n\u001b[1;32m   2291\u001b[0m         \u001b[0mself\u001b[0m\u001b[0;34m.\u001b[0m\u001b[0mwidgetName\u001b[0m \u001b[0;34m=\u001b[0m \u001b[0mwidgetName\u001b[0m\u001b[0;34m\u001b[0m\u001b[0;34m\u001b[0m\u001b[0m\n\u001b[0;32m-> 2292\u001b[0;31m         \u001b[0mBaseWidget\u001b[0m\u001b[0;34m.\u001b[0m\u001b[0m_setup\u001b[0m\u001b[0;34m(\u001b[0m\u001b[0mself\u001b[0m\u001b[0;34m,\u001b[0m \u001b[0mmaster\u001b[0m\u001b[0;34m,\u001b[0m \u001b[0mcnf\u001b[0m\u001b[0;34m)\u001b[0m\u001b[0;34m\u001b[0m\u001b[0;34m\u001b[0m\u001b[0m\n\u001b[0m\u001b[1;32m   2293\u001b[0m         \u001b[0;32mif\u001b[0m \u001b[0mself\u001b[0m\u001b[0;34m.\u001b[0m\u001b[0m_tclCommands\u001b[0m \u001b[0;32mis\u001b[0m \u001b[0;32mNone\u001b[0m\u001b[0;34m:\u001b[0m\u001b[0;34m\u001b[0m\u001b[0;34m\u001b[0m\u001b[0m\n\u001b[1;32m   2294\u001b[0m             \u001b[0mself\u001b[0m\u001b[0;34m.\u001b[0m\u001b[0m_tclCommands\u001b[0m \u001b[0;34m=\u001b[0m \u001b[0;34m[\u001b[0m\u001b[0;34m]\u001b[0m\u001b[0;34m\u001b[0m\u001b[0;34m\u001b[0m\u001b[0m\n",
            "\u001b[0;32m/usr/lib/python3.7/tkinter/__init__.py\u001b[0m in \u001b[0;36m_setup\u001b[0;34m(self, master, cnf)\u001b[0m\n\u001b[1;32m   2257\u001b[0m             \u001b[0;32mif\u001b[0m \u001b[0;32mnot\u001b[0m \u001b[0mmaster\u001b[0m\u001b[0;34m:\u001b[0m\u001b[0;34m\u001b[0m\u001b[0;34m\u001b[0m\u001b[0m\n\u001b[1;32m   2258\u001b[0m                 \u001b[0;32mif\u001b[0m \u001b[0;32mnot\u001b[0m \u001b[0m_default_root\u001b[0m\u001b[0;34m:\u001b[0m\u001b[0;34m\u001b[0m\u001b[0;34m\u001b[0m\u001b[0m\n\u001b[0;32m-> 2259\u001b[0;31m                     \u001b[0m_default_root\u001b[0m \u001b[0;34m=\u001b[0m \u001b[0mTk\u001b[0m\u001b[0;34m(\u001b[0m\u001b[0;34m)\u001b[0m\u001b[0;34m\u001b[0m\u001b[0;34m\u001b[0m\u001b[0m\n\u001b[0m\u001b[1;32m   2260\u001b[0m                 \u001b[0mmaster\u001b[0m \u001b[0;34m=\u001b[0m \u001b[0m_default_root\u001b[0m\u001b[0;34m\u001b[0m\u001b[0;34m\u001b[0m\u001b[0m\n\u001b[1;32m   2261\u001b[0m         \u001b[0mself\u001b[0m\u001b[0;34m.\u001b[0m\u001b[0mmaster\u001b[0m \u001b[0;34m=\u001b[0m \u001b[0mmaster\u001b[0m\u001b[0;34m\u001b[0m\u001b[0;34m\u001b[0m\u001b[0m\n",
            "\u001b[0;32m/usr/lib/python3.7/tkinter/__init__.py\u001b[0m in \u001b[0;36m__init__\u001b[0;34m(self, screenName, baseName, className, useTk, sync, use)\u001b[0m\n\u001b[1;32m   2021\u001b[0m                 \u001b[0mbaseName\u001b[0m \u001b[0;34m=\u001b[0m \u001b[0mbaseName\u001b[0m \u001b[0;34m+\u001b[0m \u001b[0mext\u001b[0m\u001b[0;34m\u001b[0m\u001b[0;34m\u001b[0m\u001b[0m\n\u001b[1;32m   2022\u001b[0m         \u001b[0minteractive\u001b[0m \u001b[0;34m=\u001b[0m \u001b[0;36m0\u001b[0m\u001b[0;34m\u001b[0m\u001b[0;34m\u001b[0m\u001b[0m\n\u001b[0;32m-> 2023\u001b[0;31m         \u001b[0mself\u001b[0m\u001b[0;34m.\u001b[0m\u001b[0mtk\u001b[0m \u001b[0;34m=\u001b[0m \u001b[0m_tkinter\u001b[0m\u001b[0;34m.\u001b[0m\u001b[0mcreate\u001b[0m\u001b[0;34m(\u001b[0m\u001b[0mscreenName\u001b[0m\u001b[0;34m,\u001b[0m \u001b[0mbaseName\u001b[0m\u001b[0;34m,\u001b[0m \u001b[0mclassName\u001b[0m\u001b[0;34m,\u001b[0m \u001b[0minteractive\u001b[0m\u001b[0;34m,\u001b[0m \u001b[0mwantobjects\u001b[0m\u001b[0;34m,\u001b[0m \u001b[0museTk\u001b[0m\u001b[0;34m,\u001b[0m \u001b[0msync\u001b[0m\u001b[0;34m,\u001b[0m \u001b[0muse\u001b[0m\u001b[0;34m)\u001b[0m\u001b[0;34m\u001b[0m\u001b[0;34m\u001b[0m\u001b[0m\n\u001b[0m\u001b[1;32m   2024\u001b[0m         \u001b[0;32mif\u001b[0m \u001b[0museTk\u001b[0m\u001b[0;34m:\u001b[0m\u001b[0;34m\u001b[0m\u001b[0;34m\u001b[0m\u001b[0m\n\u001b[1;32m   2025\u001b[0m             \u001b[0mself\u001b[0m\u001b[0;34m.\u001b[0m\u001b[0m_loadtk\u001b[0m\u001b[0;34m(\u001b[0m\u001b[0;34m)\u001b[0m\u001b[0;34m\u001b[0m\u001b[0;34m\u001b[0m\u001b[0m\n",
            "\u001b[0;31mTclError\u001b[0m: no display name and no $DISPLAY environment variable"
          ]
        }
      ],
      "source": [
        "app = App()\n",
        "\n",
        "def bayesian():\n",
        "    BayesianOpt(X_train, y_train)\n",
        "\n",
        "def grid():\n",
        "    GridOpt(X_train, y_train)\n",
        "\n",
        "def random():\n",
        "    RandomOpt(X_train, y_train)\n",
        "\n",
        "app.after(100, random)\n",
        "\n",
        "app.mainloop()"
      ]
    },
    {
      "cell_type": "markdown",
      "metadata": {
        "id": "kQaNrfrVePZY"
      },
      "source": [
        "# To Do:"
      ]
    },
    {
      "cell_type": "markdown",
      "metadata": {
        "id": "yO5ygUIiePZY"
      },
      "source": [
        "1 - Dynamically adding hyperparameters to wrapper\n",
        "\n",
        "2 - Parallel compatibility\n",
        "\n",
        "3 - Column sizing\n",
        "\n",
        "4 - Implement all scores on final table"
      ]
    }
  ],
  "metadata": {
    "colab": {
      "collapsed_sections": [],
      "provenance": []
    },
    "kernelspec": {
      "display_name": "Python 3.10.4 ('aisd_env1')",
      "language": "python",
      "name": "python3"
    },
    "language_info": {
      "codemirror_mode": {
        "name": "ipython",
        "version": 3
      },
      "file_extension": ".py",
      "mimetype": "text/x-python",
      "name": "python",
      "nbconvert_exporter": "python",
      "pygments_lexer": "ipython3",
      "version": "3.10.4"
    },
    "vscode": {
      "interpreter": {
        "hash": "ee00e7d6e1ac809fda3faab8d8d4671a7d9fc01bf74004d7c8181c9830df034d"
      }
    }
  },
  "nbformat": 4,
  "nbformat_minor": 0
}